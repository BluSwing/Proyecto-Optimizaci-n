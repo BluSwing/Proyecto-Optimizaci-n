{
  "nbformat": 4,
  "nbformat_minor": 0,
  "metadata": {
    "colab": {
      "provenance": []
    },
    "kernelspec": {
      "name": "python3",
      "display_name": "Python 3"
    },
    "language_info": {
      "name": "python"
    }
  },
  "cells": [
    {
      "cell_type": "code",
      "source": [
        "pip install gurobipy"
      ],
      "metadata": {
        "colab": {
          "base_uri": "https://localhost:8080/"
        },
        "id": "Uru2diAPJ7do",
        "outputId": "988a2ac3-09e8-41b2-88c0-38587a32bc28"
      },
      "execution_count": 1,
      "outputs": [
        {
          "output_type": "stream",
          "name": "stdout",
          "text": [
            "Collecting gurobipy\n",
            "  Downloading gurobipy-11.0.2-cp310-cp310-manylinux2014_x86_64.manylinux_2_17_x86_64.whl (13.4 MB)\n",
            "\u001b[2K     \u001b[90m━━━━━━━━━━━━━━━━━━━━━━━━━━━━━━━━━━━━━━━━\u001b[0m \u001b[32m13.4/13.4 MB\u001b[0m \u001b[31m16.2 MB/s\u001b[0m eta \u001b[36m0:00:00\u001b[0m\n",
            "\u001b[?25hInstalling collected packages: gurobipy\n",
            "Successfully installed gurobipy-11.0.2\n"
          ]
        }
      ]
    },
    {
      "cell_type": "code",
      "execution_count": 15,
      "metadata": {
        "colab": {
          "base_uri": "https://localhost:8080/",
          "height": 860
        },
        "id": "-V1_Vs48JgQV",
        "outputId": "f7012c52-fd5a-4dca-b360-6928251dc483"
      },
      "outputs": [
        {
          "output_type": "stream",
          "name": "stdout",
          "text": [
            "Gurobi Optimizer version 11.0.2 build v11.0.2rc0 (linux64 - \"Ubuntu 22.04.3 LTS\")\n",
            "\n",
            "CPU model: Intel(R) Xeon(R) CPU @ 2.20GHz, instruction set [SSE2|AVX|AVX2]\n",
            "Thread count: 1 physical cores, 2 logical processors, using up to 2 threads\n",
            "\n",
            "Optimize a model with 189 rows, 100 columns and 639 nonzeros\n",
            "Model fingerprint: 0x19bf98dc\n",
            "Variable types: 10 continuous, 90 integer (90 binary)\n",
            "Coefficient statistics:\n",
            "  Matrix range     [1e+00, 2e+03]\n",
            "  Objective range  [1e+00, 2e+01]\n",
            "  Bounds range     [1e+00, 1e+03]\n",
            "  RHS range        [1e+00, 2e+03]\n",
            "Presolve removed 86 rows and 48 columns\n",
            "Presolve time: 0.00s\n",
            "\n",
            "Explored 0 nodes (0 simplex iterations) in 0.02 seconds (0.00 work units)\n",
            "Thread count was 1 (of 2 available processors)\n",
            "\n",
            "Solution count 0\n",
            "\n",
            "Model is infeasible\n",
            "Best objective -, best bound -, gap -\n"
          ]
        },
        {
          "output_type": "error",
          "ename": "AttributeError",
          "evalue": "Unable to retrieve attribute 'x'",
          "traceback": [
            "\u001b[0;31m---------------------------------------------------------------------------\u001b[0m",
            "\u001b[0;31mAttributeError\u001b[0m                            Traceback (most recent call last)",
            "\u001b[0;32m<ipython-input-15-2029371fd01f>\u001b[0m in \u001b[0;36m<cell line: 89>\u001b[0;34m()\u001b[0m\n\u001b[1;32m     88\u001b[0m \u001b[0;34m\u001b[0m\u001b[0m\n\u001b[1;32m     89\u001b[0m \u001b[0;32mif\u001b[0m \u001b[0m__name__\u001b[0m \u001b[0;34m==\u001b[0m \u001b[0;34m\"__main__\"\u001b[0m\u001b[0;34m:\u001b[0m\u001b[0;34m\u001b[0m\u001b[0;34m\u001b[0m\u001b[0m\n\u001b[0;32m---> 90\u001b[0;31m     \u001b[0mmain\u001b[0m\u001b[0;34m(\u001b[0m\u001b[0;34m)\u001b[0m\u001b[0;34m\u001b[0m\u001b[0;34m\u001b[0m\u001b[0m\n\u001b[0m",
            "\u001b[0;32m<ipython-input-15-2029371fd01f>\u001b[0m in \u001b[0;36mmain\u001b[0;34m()\u001b[0m\n\u001b[1;32m     85\u001b[0m     \u001b[0mn\u001b[0m\u001b[0;34m,\u001b[0m \u001b[0mvehicle_capacity\u001b[0m\u001b[0;34m,\u001b[0m \u001b[0mnum_vehicles\u001b[0m\u001b[0;34m,\u001b[0m \u001b[0mcustomers\u001b[0m \u001b[0;34m=\u001b[0m \u001b[0mload_data\u001b[0m\u001b[0;34m(\u001b[0m\u001b[0;34m)\u001b[0m\u001b[0;34m\u001b[0m\u001b[0;34m\u001b[0m\u001b[0m\n\u001b[1;32m     86\u001b[0m     \u001b[0mm\u001b[0m\u001b[0;34m,\u001b[0m \u001b[0mvars\u001b[0m \u001b[0;34m=\u001b[0m \u001b[0mcreate_model\u001b[0m\u001b[0;34m(\u001b[0m\u001b[0mn\u001b[0m\u001b[0;34m,\u001b[0m \u001b[0mvehicle_capacity\u001b[0m\u001b[0;34m,\u001b[0m \u001b[0mnum_vehicles\u001b[0m\u001b[0;34m,\u001b[0m \u001b[0mcustomers\u001b[0m\u001b[0;34m)\u001b[0m\u001b[0;34m\u001b[0m\u001b[0;34m\u001b[0m\u001b[0m\n\u001b[0;32m---> 87\u001b[0;31m     \u001b[0mprint_solution\u001b[0m\u001b[0;34m(\u001b[0m\u001b[0mvars\u001b[0m\u001b[0;34m,\u001b[0m \u001b[0mn\u001b[0m\u001b[0;34m)\u001b[0m\u001b[0;34m\u001b[0m\u001b[0;34m\u001b[0m\u001b[0m\n\u001b[0m\u001b[1;32m     88\u001b[0m \u001b[0;34m\u001b[0m\u001b[0m\n\u001b[1;32m     89\u001b[0m \u001b[0;32mif\u001b[0m \u001b[0m__name__\u001b[0m \u001b[0;34m==\u001b[0m \u001b[0;34m\"__main__\"\u001b[0m\u001b[0;34m:\u001b[0m\u001b[0;34m\u001b[0m\u001b[0;34m\u001b[0m\u001b[0m\n",
            "\u001b[0;32m<ipython-input-15-2029371fd01f>\u001b[0m in \u001b[0;36mprint_solution\u001b[0;34m(vars, n)\u001b[0m\n\u001b[1;32m     75\u001b[0m     \u001b[0;32mfor\u001b[0m \u001b[0mi\u001b[0m \u001b[0;32min\u001b[0m \u001b[0mrange\u001b[0m\u001b[0;34m(\u001b[0m\u001b[0mn\u001b[0m\u001b[0;34m)\u001b[0m\u001b[0;34m:\u001b[0m\u001b[0;34m\u001b[0m\u001b[0;34m\u001b[0m\u001b[0m\n\u001b[1;32m     76\u001b[0m         \u001b[0;32mfor\u001b[0m \u001b[0mj\u001b[0m \u001b[0;32min\u001b[0m \u001b[0mrange\u001b[0m\u001b[0;34m(\u001b[0m\u001b[0mn\u001b[0m\u001b[0;34m)\u001b[0m\u001b[0;34m:\u001b[0m\u001b[0;34m\u001b[0m\u001b[0;34m\u001b[0m\u001b[0m\n\u001b[0;32m---> 77\u001b[0;31m             \u001b[0;32mif\u001b[0m \u001b[0mi\u001b[0m \u001b[0;34m!=\u001b[0m \u001b[0mj\u001b[0m \u001b[0;32mand\u001b[0m \u001b[0mvars\u001b[0m\u001b[0;34m[\u001b[0m\u001b[0mi\u001b[0m\u001b[0;34m,\u001b[0m \u001b[0mj\u001b[0m\u001b[0;34m]\u001b[0m\u001b[0;34m.\u001b[0m\u001b[0mx\u001b[0m \u001b[0;34m>\u001b[0m \u001b[0;36m0.5\u001b[0m\u001b[0;34m:\u001b[0m\u001b[0;34m\u001b[0m\u001b[0;34m\u001b[0m\u001b[0m\n\u001b[0m\u001b[1;32m     78\u001b[0m                 \u001b[0msolution\u001b[0m\u001b[0;34m.\u001b[0m\u001b[0mappend\u001b[0m\u001b[0;34m(\u001b[0m\u001b[0;34m(\u001b[0m\u001b[0mi\u001b[0m\u001b[0;34m,\u001b[0m \u001b[0mj\u001b[0m\u001b[0;34m)\u001b[0m\u001b[0;34m)\u001b[0m\u001b[0;34m\u001b[0m\u001b[0;34m\u001b[0m\u001b[0m\n\u001b[1;32m     79\u001b[0m \u001b[0;34m\u001b[0m\u001b[0m\n",
            "\u001b[0;32msrc/gurobipy/var.pxi\u001b[0m in \u001b[0;36mgurobipy.Var.__getattr__\u001b[0;34m()\u001b[0m\n",
            "\u001b[0;32msrc/gurobipy/var.pxi\u001b[0m in \u001b[0;36mgurobipy.Var.getAttr\u001b[0;34m()\u001b[0m\n",
            "\u001b[0;32msrc/gurobipy/attrutil.pxi\u001b[0m in \u001b[0;36mgurobipy._getattr\u001b[0;34m()\u001b[0m\n",
            "\u001b[0;31mAttributeError\u001b[0m: Unable to retrieve attribute 'x'"
          ]
        }
      ],
      "source": [
        "import gurobipy as gp\n",
        "from gurobipy import GRB\n",
        "import numpy as np\n",
        "\n",
        "def load_data():\n",
        "    # Datos del problema reducidos para ejemplo\n",
        "    n = 10  # Número de clientes (incluyendo el depósito)\n",
        "    vehicle_capacity = 200\n",
        "    num_vehicles = 3\n",
        "\n",
        "    # Datos de los clientes (coordenadas, demanda, tiempo de servicio, ventanas de tiempo)\n",
        "    customers = [\n",
        "        (40, 50, 0, 0, 1236, 0),    # Depósito\n",
        "        (45, 68, 10, 912, 967, 90),\n",
        "        (45, 70, 30, 825, 870, 90),\n",
        "        (42, 66, 10, 65, 146, 90),\n",
        "        (42, 68, 10, 727, 782, 90),\n",
        "        (42, 65, 10, 15, 67, 90),\n",
        "        (40, 69, 20, 621, 702, 90),\n",
        "        (40, 66, 20, 170, 225, 90),\n",
        "        (38, 68, 20, 255, 324, 90),\n",
        "        (38, 70, 10, 534, 605, 90),\n",
        "    ]\n",
        "\n",
        "    return n, vehicle_capacity, num_vehicles, customers\n",
        "\n",
        "def create_model(n, vehicle_capacity, num_vehicles, customers):\n",
        "    x = [cust[0] for cust in customers]\n",
        "    y = [cust[1] for cust in customers]\n",
        "    demand = [cust[2] for cust in customers]\n",
        "    ready_time = [cust[3] for cust in customers]\n",
        "    due_date = [cust[4] for cust in customers]\n",
        "    service_time = [cust[5] for cust in customers]\n",
        "\n",
        "    # Crear matriz de distancias (en este caso se usan distancias Euclidianas para simplificar)\n",
        "    dist = np.zeros((n, n))\n",
        "    for i in range(n):\n",
        "        for j in range(n):\n",
        "            dist[i][j] = np.sqrt((x[i] - x[j])**2 + (y[i] - y[j])**2)\n",
        "\n",
        "    m = gp.Model('VRPTW')\n",
        "\n",
        "    # Variables de decisión\n",
        "    vars = {}\n",
        "    for i in range(n):\n",
        "        for j in range(n):\n",
        "            if i != j:\n",
        "                vars[i, j] = m.addVar(vtype=GRB.BINARY, obj=dist[i][j], name='e_%d_%d' % (i, j))\n",
        "\n",
        "    # Tiempo de llegada a cada cliente\n",
        "    arrivaltime = m.addVars(range(n), lb=ready_time, ub=due_date, vtype=GRB.CONTINUOUS, name='arrivaltime')\n",
        "\n",
        "    # Restricciones\n",
        "    m.addConstrs((vars[i, j] + vars[j, i] == 1 for i in range(n) for j in range(n) if i != j), name='no_subtour')\n",
        "\n",
        "    # Restricciones de capacidad de los vehículos\n",
        "    m.addConstrs((gp.quicksum(demand[i] * vars[i, j] for j in range(n) if i != j) <= vehicle_capacity for i in range(1, n)), name='capacity')\n",
        "\n",
        "    # Restricciones de asignación y ventanas de tiempo\n",
        "    for i in range(1, n):\n",
        "        m.addConstr(gp.quicksum(vars[i, j] for j in range(n) if j != i) == 1)\n",
        "        m.addConstr(gp.quicksum(vars[j, i] for j in range(n) if j != i) == 1)\n",
        "        for j in range(1, n):\n",
        "            if i != j:\n",
        "                m.addConstr(arrivaltime[i] + service_time[i] + dist[i][j] <= arrivaltime[j] + (1 - vars[i, j]) * (due_date[i] + due_date[j]))\n",
        "\n",
        "    # Configurar función objetivo y resolver\n",
        "    m.ModelSense = GRB.MINIMIZE\n",
        "    m.optimize()\n",
        "\n",
        "    return m, vars\n",
        "\n",
        "def print_solution(vars, n):\n",
        "    solution = []\n",
        "    for i in range(n):\n",
        "        for j in range(n):\n",
        "            if i != j and vars[i, j].x > 0.5:\n",
        "                solution.append((i, j))\n",
        "\n",
        "    print('Rutas:')\n",
        "    for i, j in solution:\n",
        "        print('Cliente %d -> Cliente %d' % (i, j))\n",
        "\n",
        "def main():\n",
        "    n, vehicle_capacity, num_vehicles, customers = load_data()\n",
        "    m, vars = create_model(n, vehicle_capacity, num_vehicles, customers)\n",
        "    print_solution(vars, n)\n",
        "\n",
        "if __name__ == \"__main__\":\n",
        "    main()\n"
      ]
    }
  ]
}